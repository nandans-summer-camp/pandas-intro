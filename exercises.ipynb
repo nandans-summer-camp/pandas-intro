{
 "cells": [
  {
   "cell_type": "code",
   "execution_count": 71,
   "metadata": {
    "collapsed": false
   },
   "outputs": [],
   "source": [
    "# 1)\n",
    "# Comma Separate Values (CSV) is common\n",
    "# file format to store rectangular data.\n",
    "\n",
    "# Pandas can be used to read csv data directly\n",
    "# into a DataFrame object! Use the \"read_csv\"\n",
    "# function on the pandas module to read the \n",
    "# file \"covid.csv\" into a DataFrame.\n",
    "\n"
   ]
  },
  {
   "cell_type": "code",
   "execution_count": 72,
   "metadata": {
    "collapsed": false
   },
   "outputs": [],
   "source": [
    "# 2)\n",
    "# Get the top 3 countries with the most deaths.\n",
    "# HINT: you can use ranges in .iloc, just like\n",
    "# in Python lists.\n",
    "\n"
   ]
  },
  {
   "cell_type": "code",
   "execution_count": null,
   "metadata": {
    "collapsed": false
   },
   "outputs": [],
   "source": [
    "# 3)\n",
    "# How many deaths does Spain have reported\n",
    "# in this dataset?\n",
    "\n"
   ]
  },
  {
   "cell_type": "code",
   "execution_count": null,
   "metadata": {
    "collapsed": false
   },
   "outputs": [],
   "source": [
    "# 4)\n",
    "# Get the country with the 10th highest number\n",
    "# of confirmed cases.\n",
    "\n"
   ]
  },
  {
   "cell_type": "code",
   "execution_count": 73,
   "metadata": {
    "collapsed": false
   },
   "outputs": [],
   "source": [
    "# 5)\n",
    "# Filter the DataFrame to only contain rows\n",
    "# where there are more than 100 confirmed \n",
    "# cases but less than 1000 confirmed cases: \n",
    "\n"
   ]
  },
  {
   "cell_type": "code",
   "execution_count": 74,
   "metadata": {
    "collapsed": false
   },
   "outputs": [],
   "source": [
    "# 6)\n",
    "# Return a Series of country names where\n",
    "# where there are more reported Deaths than \n",
    "# people Recovered\n",
    "\n"
   ]
  },
  {
   "cell_type": "code",
   "execution_count": 75,
   "metadata": {
    "collapsed": false
   },
   "outputs": [],
   "source": [
    "# 7)\n",
    "# Series objects have a method called `.isin()`\n",
    "# which takes one parameter: a list or Series\n",
    "# and returns a boolean series, indicating \n",
    "# whether or not the value is in the list/Series.\n",
    "\n",
    "# Get the total number of deaths (the sum)\n",
    "# in the all following countries combined:\n",
    "\n",
    "countries = ['Spain', 'Germany', 'England', 'Portugal', 'France']\n",
    "\n"
   ]
  },
  {
   "cell_type": "code",
   "execution_count": 76,
   "metadata": {
    "collapsed": false
   },
   "outputs": [],
   "source": [
    "# 8)\n",
    "# Get the mean number of active cases for \n",
    "# countries with deaths < 100\n",
    "\n"
   ]
  },
  {
   "cell_type": "code",
   "execution_count": 77,
   "metadata": {
    "collapsed": false
   },
   "outputs": [],
   "source": [
    "# 9)\n",
    "# Filter the dataframe to only include\n",
    "# countries which have more than the mean\n",
    "# number of deaths (i.e. compute the average\n",
    "# death toll across all the countries,\n",
    "# then filter the dataframe to only include\n",
    "# countries with more deaths than that).\n",
    "\n"
   ]
  }
 ],
 "metadata": {
  "file_extension": ".py",
  "kernelspec": {
   "display_name": "Python 3.8.2 64-bit ('venv': venv)",
   "name": "python38264bitvenvvenv841964d98f5e47bf99bd452dab26b883"
  },
  "language_info": {
   "codemirror_mode": {
    "name": "ipython",
    "version": 3
   },
   "name": "python",
   "version": "3.8.2-final"
  },
  "mimetype": "text/x-python",
  "name": "exercises.ipynb",
  "npconvert_exporter": "python",
  "pygments_lexer": "ipython3",
  "version": 3
 },
 "nbformat": 4,
 "nbformat_minor": 2
}
