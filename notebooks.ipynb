{
 "nbformat": 4,
 "nbformat_minor": 2,
 "metadata": {
  "language_info": {
   "name": "python",
   "codemirror_mode": {
    "name": "ipython",
    "version": 3
   },
   "version": "3.8.2-final"
  },
  "orig_nbformat": 2,
  "file_extension": ".py",
  "mimetype": "text/x-python",
  "name": "python",
  "npconvert_exporter": "python",
  "pygments_lexer": "ipython3",
  "version": 3,
  "kernelspec": {
   "name": "python38264bitvenvvenv841964d98f5e47bf99bd452dab26b883",
   "display_name": "Python 3.8.2 64-bit ('venv': venv)"
  }
 },
 "cells": [
  {
   "cell_type": "markdown",
   "metadata": {},
   "source": [
    "# Jupyter Notebooks\n",
    "\n",
    "Jupyter notebooks allow us to combine: \n",
    "\n",
    "1. Markdown\n",
    "2. Code\n",
    "3. Output (graphs, tables, etc.)\n",
    "\n",
    "In one file! This ends up being really nice for data analysis, where the goal is not just to write code, but to show some sort of conclusion or output!\n",
    "\n",
    "The Notebook is made up of a bunch of \"cells\". Each cell is either Markdown or Code. \n",
    "\n",
    "You control Notebooks through two modes:\n",
    "\n",
    "1. *Command Mode*. Used for navigating between cells, adding cells, deleting cells. \n",
    "2. *Edit Mode*. Used for editing a cell.\n",
    "\n",
    "If you are in edit mode, you can enter command mode by pressing `Esc`. \n",
    "\n",
    "If you are in command mode, you enter edit mode by pressing `Enter` on the cell you want to edit. \n",
    "\n",
    "Try it now: \n",
    "\n",
    "1. Enter command mode and navigate between cells with the `up` and `down` keys. \n",
    "2. Enter edit mode in the cell below and write some Python. \n",
    "3. Enter command mode again and navigate to the following cell.\n"
   ]
  },
  {
   "cell_type": "code",
   "execution_count": 6,
   "metadata": {},
   "outputs": [],
   "source": [
    "# This is a code cell, you can write Python code here:\n",
    ""
   ]
  },
  {
   "cell_type": "markdown",
   "metadata": {},
   "source": [
    "## Command mode\n",
    "\n",
    "When in command mode: \n",
    "\n",
    "* You can insert a new cell below the current cell with `b`.\n",
    "* You can insert a new cell above the current cell with `a`.\n",
    "* You can delete a cell with `dd`.\n",
    "* You can undo the creation/deletion of cells with `z`\n",
    "* Execute a cell with `Enter`\n",
    "* Execute a cell and move to the next cell with `Shift+Enter`\n",
    "\n",
    "When in edit mode: \n",
    "\n",
    "* Undo/Redo with `Ctrl+z` and `Ctrl+y`\n",
    "* Change indentation with `Ctrl+[` and `Ctrl+]`\n",
    "* Execute a cell and move to the next cell with `Shift+Enter`\n"
   ]
  },
  {
   "cell_type": "code",
   "execution_count": 9,
   "metadata": {},
   "outputs": [],
   "source": [
    "# Edit mode: practice editing! Finish this function and \n",
    "# execute the cell. What do you see?\n",
    "\n",
    "def double(num):\n",
    "    # should return 2 times the number\n",
    "    pass\n",
    "\n",
    "double(5)"
   ]
  },
  {
   "cell_type": "markdown",
   "metadata": {},
   "source": [
    "## Outputs\n",
    "\n",
    "In notebooks, the last line executed in a cell is automatically displayed. \n",
    "\n",
    "If we want to print more than just the last line, we need to use `print`.\n",
    "\n",
    "Try it in the above cell, try to call the `double` function multiple times and print the results. \n",
    "\n",
    "Play with using `print` versus not using `print`."
   ]
  }
 ]
}