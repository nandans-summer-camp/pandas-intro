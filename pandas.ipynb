{
 "cells": [
  {
   "cell_type": "markdown",
   "metadata": {
    "collapsed": false
   },
   "source": [
    "# Rectangular data\n",
    "\n",
    "We have seen that dictionaries are a very flexible way to represent a piece of data and that lists of dictionaries are natural ways to store data. \n",
    "\n",
    "Dictionaries are very powerful because they can accomodate very complex, \"nested\" structures, as we have seen. For example, a dictionary can have another dictionary as a value, or a list, or both! The nesting can be arbitrarily deep. This is very powerful for storing information. \n",
    "\n",
    "Similarly, by working with these dictionaries and using our basic operations (map, filter, reduce), we saw that we could perform very complex operations on this complex data.\n",
    "\n",
    "However, it takes a lot of custom code to perform those operations on dictionaries that have a complex, custom format.  \n",
    "\n",
    "If our data is not complex and nested, however, maybe we can simplify some of those operations and avoid a lot of custom code! \n",
    "\n",
    "We can think of \"flat\" or \"rectangular\" data as a simpler form of the dictionaries we saw earlier."
   ]
  },
  {
   "cell_type": "code",
   "execution_count": 216,
   "metadata": {
    "collapsed": false
   },
   "outputs": [
    {
     "data": {
      "text/plain": [
       "[{'player': 'kewld00d1',\n",
       "  'best_score': 100,\n",
       "  'last_score': 100,\n",
       "  'country': 'gr'},\n",
       " {'player': 'pumpkin', 'best_score': 550, 'last_score': 20, 'country': 'gr'},\n",
       " {'player': 'tr0llhuntah',\n",
       "  'best_score': 200,\n",
       "  'last_score': 150,\n",
       "  'country': 'no'},\n",
       " {'player': '111111', 'best_score': 50, 'last_score': 50, 'country': 'no'}]"
      ]
     },
     "execution_count": 216,
     "metadata": {},
     "output_type": "execute_result"
    }
   ],
   "source": [
    "# Let's revist the data of a bunch of users playing a game. \n",
    "# This is \"flat\" or \"rectangular\" data, because every value is\n",
    "# a primitive data type (string or number or None or boolean): \n",
    "\n",
    "scoreboard = [{ 'player': 'kewld00d1', 'best_score': 100, 'last_score': 100, 'country': 'gr'},\n",
    "              { 'player': 'pumpkin', 'best_score': 550, 'last_score': 20, 'country': 'gr'},\n",
    "              { 'player': 'tr0llhuntah', 'best_score': 200, 'last_score': 150, 'country': 'no'},\n",
    "              { 'player': '111111', 'best_score': 50, 'last_score': 50, 'country': 'no'}]\n",
    "\n",
    "scoreboard"
   ]
  },
  {
   "cell_type": "markdown",
   "metadata": {
    "collapsed": false
   },
   "source": [
    "## Pandas\n",
    "\n",
    "Pandas is a Python library that we can use to work with rectangular data.\n",
    "\n",
    "You will need to install pandas! You can do this with `pip` or `conda`, depending on how your Python/Jupyter environment is set up.\n",
    "\n",
    "Rectangular data is represented by a Pandas class called a `DataFrame`. "
   ]
  },
  {
   "cell_type": "code",
   "execution_count": 217,
   "metadata": {
    "collapsed": false
   },
   "outputs": [
    {
     "name": "stdout",
     "output_type": "stream",
     "text": [
      "Empty DataFrame\n",
      "Columns: []\n",
      "Index: []\n"
     ]
    },
    {
     "data": {
      "text/plain": [
       "True"
      ]
     },
     "execution_count": 217,
     "metadata": {},
     "output_type": "execute_result"
    }
   ],
   "source": [
    "# It is canonical to import the entire pandas module\n",
    "# and give it the alias \"pd\":\n",
    "import pandas as pd \n",
    "\n",
    "# Here we create an empty dataframe and inspect it:\n",
    "df = pd.DataFrame()\n",
    "print(df)\n",
    "isinstance(df, pd.DataFrame)"
   ]
  },
  {
   "cell_type": "code",
   "execution_count": 218,
   "metadata": {
    "collapsed": false
   },
   "outputs": [
    {
     "data": {
      "text/html": [
       "<div>\n",
       "<style scoped>\n",
       "    .dataframe tbody tr th:only-of-type {\n",
       "        vertical-align: middle;\n",
       "    }\n",
       "\n",
       "    .dataframe tbody tr th {\n",
       "        vertical-align: top;\n",
       "    }\n",
       "\n",
       "    .dataframe thead th {\n",
       "        text-align: right;\n",
       "    }\n",
       "</style>\n",
       "<table border=\"1\" class=\"dataframe\">\n",
       "  <thead>\n",
       "    <tr style=\"text-align: right;\">\n",
       "      <th></th>\n",
       "      <th>player</th>\n",
       "      <th>best_score</th>\n",
       "      <th>last_score</th>\n",
       "      <th>country</th>\n",
       "    </tr>\n",
       "  </thead>\n",
       "  <tbody>\n",
       "    <tr>\n",
       "      <th>0</th>\n",
       "      <td>kewld00d1</td>\n",
       "      <td>100</td>\n",
       "      <td>100</td>\n",
       "      <td>gr</td>\n",
       "    </tr>\n",
       "    <tr>\n",
       "      <th>1</th>\n",
       "      <td>pumpkin</td>\n",
       "      <td>550</td>\n",
       "      <td>20</td>\n",
       "      <td>gr</td>\n",
       "    </tr>\n",
       "    <tr>\n",
       "      <th>2</th>\n",
       "      <td>tr0llhuntah</td>\n",
       "      <td>200</td>\n",
       "      <td>150</td>\n",
       "      <td>no</td>\n",
       "    </tr>\n",
       "    <tr>\n",
       "      <th>3</th>\n",
       "      <td>111111</td>\n",
       "      <td>50</td>\n",
       "      <td>50</td>\n",
       "      <td>no</td>\n",
       "    </tr>\n",
       "  </tbody>\n",
       "</table>\n",
       "</div>"
      ],
      "text/plain": [
       "        player  best_score  last_score country\n",
       "0    kewld00d1         100         100      gr\n",
       "1      pumpkin         550          20      gr\n",
       "2  tr0llhuntah         200         150      no\n",
       "3       111111          50          50      no"
      ]
     },
     "execution_count": 218,
     "metadata": {},
     "output_type": "execute_result"
    }
   ],
   "source": [
    "# We can create the dataframe from a list of dictionaries, \n",
    "# by passing the list of dictionaries as the first argument\n",
    "# to the DataFrame constructor:\n",
    "\n",
    "df = pd.DataFrame(scoreboard)\n",
    "\n",
    "df"
   ]
  },
  {
   "cell_type": "markdown",
   "metadata": {
    "collapsed": false
   },
   "source": [
    "You'll notice that the data is displayed as a rectangle! \n",
    "\n",
    "A lot like a spreadsheet, which is also rectangular data \n",
    "\n",
    "Because it's rectangular, there are two dimensions:\n",
    "\n",
    "1. **Columns** (player, best_score, last_score, country)\n",
    "2. **Rows** (0,1,2,3)"
   ]
  },
  {
   "cell_type": "code",
   "execution_count": 100,
   "metadata": {
    "collapsed": false
   },
   "outputs": [
    {
     "data": {
      "text/plain": [
       "0    100\n",
       "1    550\n",
       "2    200\n",
       "3     50\n",
       "Name: best_score, dtype: int64"
      ]
     },
     "execution_count": 100,
     "metadata": {},
     "output_type": "execute_result"
    }
   ],
   "source": [
    "# Let's say we wanted to get all the scores from\n",
    "# this dataframe. We can access a single column\n",
    "# just like we access a key in a python dictionary:\n",
    "\n",
    "df['best_score']"
   ]
  },
  {
   "cell_type": "code",
   "execution_count": 101,
   "metadata": {
    "collapsed": false
   },
   "outputs": [
    {
     "data": {
      "text/plain": [
       "pandas.core.series.Series"
      ]
     },
     "execution_count": 101,
     "metadata": {},
     "output_type": "execute_result"
    }
   ],
   "source": [
    "# Note that accessing a column returns a 1-dimensional\n",
    "# data structure, but it's not actually a list!\n",
    "# It's a new data type provided by the Pandas library,\n",
    "# called a \"Series\". \n",
    "\n",
    "type(df['best_score'])"
   ]
  },
  {
   "cell_type": "markdown",
   "metadata": {
    "collapsed": false
   },
   "source": [
    "## DataFrame vs. Series\n",
    "\n",
    "Pandas provides these two primary data types: \n",
    "\n",
    "1. **DataFrame**: A 2-dimensional data structure to represent rectangular data.\n",
    "2. **Series**: A 1-dimensional data structure (like a list), often used to represent \"slices\" of a DataFrame."
   ]
  },
  {
   "cell_type": "code",
   "execution_count": 102,
   "metadata": {
    "collapsed": false
   },
   "outputs": [
    {
     "data": {
      "text/plain": [
       "0    100\n",
       "1    550\n",
       "2    200\n",
       "3     50\n",
       "Name: best_score, dtype: int64"
      ]
     },
     "execution_count": 102,
     "metadata": {},
     "output_type": "execute_result"
    }
   ],
   "source": [
    "# We can also access a column via dot `.` notation,\n",
    "# as though it were an attribute on the instance:\n",
    "\n",
    "# NOTE: if the column name happens to be the same\n",
    "# as a built-in attribute on the Series class, then\n",
    "# it will not be accessible via dot `.` notation.\n",
    "\n",
    "df.best_score"
   ]
  },
  {
   "cell_type": "code",
   "execution_count": 103,
   "metadata": {
    "collapsed": false
   },
   "outputs": [
    {
     "name": "stdout",
     "output_type": "stream",
     "text": [
      "100\n",
      "550\n",
      "200\n",
      "50\n"
     ]
    }
   ],
   "source": [
    "# We can loop through a series, just like we do a list: \n",
    "\n",
    "for score in df.best_score:\n",
    "    print(score)"
   ]
  },
  {
   "cell_type": "code",
   "execution_count": 104,
   "metadata": {
    "collapsed": false
   },
   "outputs": [
    {
     "name": "stdout",
     "output_type": "stream",
     "text": [
      "values:  [100 550 200  50]\n",
      "index:   RangeIndex(start=0, stop=4, step=1)\n"
     ]
    }
   ],
   "source": [
    "# Series objects are more complex than lists. \n",
    "# They have \"values\", but they also have an \"index\". \n",
    "\n",
    "print('values: ', df.best_score.values)\n",
    "print('index:  ', df.best_score.index)"
   ]
  },
  {
   "cell_type": "code",
   "execution_count": 105,
   "metadata": {
    "collapsed": false
   },
   "outputs": [
    {
     "data": {
      "text/plain": [
       "dtype('int64')"
      ]
     },
     "execution_count": 105,
     "metadata": {},
     "output_type": "execute_result"
    }
   ],
   "source": [
    "# Unlike a list, which doesn't store information about\n",
    "# what data type the elements are, a Series will try to \n",
    "# store that information in an attribute called `dtype`:\n",
    "\n",
    "df.best_score.dtype"
   ]
  },
  {
   "cell_type": "markdown",
   "metadata": {
    "collapsed": false
   },
   "source": [
    "## Operations on Series objects\n",
    "\n",
    "The real power of the Series class comes in the `dtype` attribute.\n",
    "\n",
    "This allows us to perform many of the basic operations we were able to perform on primitive data types (`+`, `-`, `*`, `/`, `**`, `>`, `<`, `==`, `!=`)."
   ]
  },
  {
   "cell_type": "code",
   "execution_count": 106,
   "metadata": {
    "collapsed": false
   },
   "outputs": [
    {
     "data": {
      "text/plain": [
       "0    110\n",
       "1    560\n",
       "2    210\n",
       "3     60\n",
       "Name: best_score, dtype: int64"
      ]
     },
     "execution_count": 106,
     "metadata": {},
     "output_type": "execute_result"
    }
   ],
   "source": [
    "# Because df.score is a number type, we can perform arithmetic\n",
    "# operations between the series and a single numeric value: \n",
    "\n",
    "df.best_score + 10"
   ]
  },
  {
   "cell_type": "code",
   "execution_count": 107,
   "metadata": {
    "collapsed": false
   },
   "outputs": [],
   "source": [
    "# Try other arithmetic operations between df.score\n",
    "# and a numeric value. \n",
    "\n",
    "\n",
    "\n",
    "# Try with comparison operators (==, >, <). \n",
    "# The series that is returned, what dtype does it have?\n"
   ]
  },
  {
   "cell_type": "markdown",
   "metadata": {
    "collapsed": false
   },
   "source": [
    "## Operations between two series\n",
    "\n",
    "Operations can be performed not only between a Series and a value, as we saw, but also between two Series! \n",
    "\n",
    "This will perform the operation \"element wise\". \n",
    "\n",
    "To do this, pandas needs to know which element in the first series to align with which element in the second series.\n",
    "\n",
    "It uses the \"index\" attribute to align series together."
   ]
  },
  {
   "cell_type": "code",
   "execution_count": 108,
   "metadata": {
    "collapsed": false
   },
   "outputs": [
    {
     "data": {
      "text/plain": [
       "0    1\n",
       "1    2\n",
       "2    3\n",
       "dtype: int64"
      ]
     },
     "execution_count": 108,
     "metadata": {},
     "output_type": "execute_result"
    }
   ],
   "source": [
    "# We can create a series from scratch, giving \n",
    "# it a list for the values and a list for the index: \n",
    "\n",
    "foo = pd.Series([1, 2, 3], index=[0,1,2])\n",
    "foo"
   ]
  },
  {
   "cell_type": "code",
   "execution_count": 109,
   "metadata": {
    "collapsed": false
   },
   "outputs": [
    {
     "data": {
      "text/plain": [
       "0    10\n",
       "1    20\n",
       "2    30\n",
       "dtype: int64"
      ]
     },
     "execution_count": 109,
     "metadata": {},
     "output_type": "execute_result"
    }
   ],
   "source": [
    "# Let's create another series of the same length and with\n",
    "# the exact same index: \n",
    "\n",
    "bar = pd.Series([10, 20, 30], index=[0,1,2])\n",
    "\n",
    "bar"
   ]
  },
  {
   "cell_type": "code",
   "execution_count": 110,
   "metadata": {
    "collapsed": false
   },
   "outputs": [
    {
     "data": {
      "text/plain": [
       "0    11\n",
       "1    22\n",
       "2    33\n",
       "dtype: int64"
      ]
     },
     "execution_count": 110,
     "metadata": {},
     "output_type": "execute_result"
    }
   ],
   "source": [
    "# Now let's try to perform an operation across the series objects:\n",
    "# Try with other operators too!\n",
    "\n",
    "foo + bar"
   ]
  },
  {
   "cell_type": "code",
   "execution_count": 111,
   "metadata": {
    "collapsed": false
   },
   "outputs": [
    {
     "data": {
      "text/plain": [
       "0    11.0\n",
       "1    22.0\n",
       "2    33.0\n",
       "3     NaN\n",
       "dtype: float64"
      ]
     },
     "execution_count": 111,
     "metadata": {},
     "output_type": "execute_result"
    }
   ],
   "source": [
    "# Pandas used the \"index\" to align the Seris.\n",
    "# What would happen if the series had different lengths? \n",
    "\n",
    "baz = pd.Series([10,20,30,40], index=[0,1,2,3])\n",
    "\n",
    "foo + baz"
   ]
  },
  {
   "cell_type": "code",
   "execution_count": 112,
   "metadata": {
    "collapsed": false
   },
   "outputs": [
    {
     "data": {
      "text/plain": [
       "0   NaN\n",
       "1   NaN\n",
       "2   NaN\n",
       "3   NaN\n",
       "4   NaN\n",
       "5   NaN\n",
       "dtype: float64"
      ]
     },
     "execution_count": 112,
     "metadata": {},
     "output_type": "execute_result"
    }
   ],
   "source": [
    "# And if the series had different indices? \n",
    "\n",
    "qux = pd.Series([1,2,3], index=[3,4,5])\n",
    "\n",
    "foo + qux"
   ]
  },
  {
   "cell_type": "code",
   "execution_count": 113,
   "metadata": {
    "collapsed": false
   },
   "outputs": [
    {
     "data": {
      "text/plain": [
       "0     NaN\n",
       "1     NaN\n",
       "2     NaN\n",
       "3    41.0\n",
       "4     NaN\n",
       "5     NaN\n",
       "dtype: float64"
      ]
     },
     "execution_count": 113,
     "metadata": {},
     "output_type": "execute_result"
    }
   ],
   "source": [
    "# And if the series had different but overlapping\n",
    "# indices?\n",
    "\n",
    "baz + qux"
   ]
  },
  {
   "cell_type": "code",
   "execution_count": 115,
   "metadata": {
    "collapsed": false
   },
   "outputs": [],
   "source": [
    "# Try all the above operations with the `==`\n",
    "# operator! You will see Pandas is more picky\n",
    "# with comparisons than with arightmetic operations.\n",
    "\n"
   ]
  },
  {
   "cell_type": "code",
   "execution_count": 129,
   "metadata": {
    "collapsed": false
   },
   "outputs": [
    {
     "data": {
      "text/plain": [
       "0    3\n",
       "1    5\n",
       "2    4\n",
       "dtype: int64"
      ]
     },
     "execution_count": 129,
     "metadata": {},
     "output_type": "execute_result"
    }
   ],
   "source": [
    "# Indices don't need to be in order. \n",
    "# Take a good look at what is happening here. \n",
    "# Pandas is ignoreing the \"order\" of the Series. \n",
    "# It operates on two seris together based entirely \n",
    "# on their \"index\".  \n",
    "# HINT: examin the quxx object on its own!\n",
    "\n",
    "quux = pd.Series([1,2,3], index=[2,0,1])\n",
    "\n",
    "foo + quux"
   ]
  },
  {
   "cell_type": "markdown",
   "metadata": {
    "collapsed": false
   },
   "source": [
    "## Boolean logic with boolean Series objects\n",
    "\n",
    "In Python we have boolean logic with `and`, `or` and `not`. \n",
    "\n",
    "In Pandas, we have different operators to combine two boolean Series objects: \n",
    "\n",
    "* `&` (logical and)\n",
    "* `|` (logical or)\n",
    "* `~` (logical not)"
   ]
  },
  {
   "cell_type": "code",
   "execution_count": 198,
   "metadata": {
    "collapsed": false
   },
   "outputs": [
    {
     "data": {
      "text/plain": [
       "0    False\n",
       "1     True\n",
       "2     True\n",
       "3    False\n",
       "Name: best_score, dtype: bool"
      ]
     },
     "execution_count": 198,
     "metadata": {},
     "output_type": "execute_result"
    }
   ],
   "source": [
    "bool_series = df.best_score < 200\n",
    "\n",
    "# Take a look at the logical not operator, \n",
    "# returns the opposite of the boolean series:\n",
    "\n",
    "~bool_series"
   ]
  },
  {
   "cell_type": "code",
   "execution_count": 196,
   "metadata": {
    "collapsed": false
   },
   "outputs": [],
   "source": [
    "# Challenge: \n",
    "# Return a boolean Series that is True for \n",
    "# Every player that has a best_score > 100 \n",
    "# AND a last_score > 100\n",
    "\n",
    "# HINT: if you don't create separate variables\n",
    "# for the boolean series objects, you will need \n",
    "# to use () to group them!\n",
    "\n"
   ]
  },
  {
   "cell_type": "markdown",
   "metadata": {
    "collapsed": false
   },
   "source": [
    "## Accessing elements from a Series\n",
    "\n",
    "Accessing elements from a series is also subtly different from accessing elements from a list. \n",
    "\n",
    "Series objects give us two ways to access elements: \n",
    "\n",
    "1. By their index (`[i]`).\n",
    "2. By their location (`.iloc[i]`).\n",
    "\n",
    "In a basic Python list, the index *was* the location, so we did not have to differentiate between the two. \n",
    "\n",
    "In Pandas, as we saw, the index can be in any order. It can also be made up of strings! But the elements in the series are still ordered."
   ]
  },
  {
   "cell_type": "code",
   "execution_count": 130,
   "metadata": {
    "collapsed": false
   },
   "outputs": [
    {
     "data": {
      "text/plain": [
       "1"
      ]
     },
     "execution_count": 130,
     "metadata": {},
     "output_type": "execute_result"
    }
   ],
   "source": [
    "# Accessing elements by their index: \n",
    "# This is done like a list or dictionary\n",
    "\n",
    "quux[2]"
   ]
  },
  {
   "cell_type": "code",
   "execution_count": 132,
   "metadata": {
    "collapsed": false
   },
   "outputs": [
    {
     "data": {
      "text/plain": [
       "3"
      ]
     },
     "execution_count": 132,
     "metadata": {},
     "output_type": "execute_result"
    }
   ],
   "source": [
    "# Accessing elements by their location:\n",
    "# This is done with `.iloc`:\n",
    "\n",
    "quux.iloc[2]"
   ]
  },
  {
   "cell_type": "code",
   "execution_count": 138,
   "metadata": {
    "collapsed": false
   },
   "outputs": [
    {
     "name": "stdout",
     "output_type": "stream",
     "text": [
      "by index:     2\n",
      "by location:  2\n"
     ]
    }
   ],
   "source": [
    "# Note how this looks with a Series with a string index:\n",
    "\n",
    "quuux = pd.Series([1,2,3], index=['foo', 'bar', 'baz'])\n",
    "\n",
    "print('by index:    ', quuux['bar'])\n",
    "print('by location: ', quuux.iloc[1])"
   ]
  },
  {
   "cell_type": "code",
   "execution_count": 163,
   "metadata": {
    "collapsed": false
   },
   "outputs": [
    {
     "data": {
      "text/plain": [
       "2       1\n",
       "0       2\n",
       "1       3\n",
       "10    100\n",
       "dtype: int64"
      ]
     },
     "execution_count": 163,
     "metadata": {},
     "output_type": "execute_result"
    }
   ],
   "source": [
    "# Unlike a list, we can set elements in a Series at an index\n",
    "# which does not currently exist:\n",
    "\n",
    "quux[10] = 100\n",
    "quux"
   ]
  },
  {
   "cell_type": "markdown",
   "metadata": {
    "collapsed": false
   },
   "source": [
    "## Operations between columns in a DataFrame\n",
    "\n",
    "We have seen that we can access a single \"column\" of a DataFrame as a Series. \n",
    "\n",
    "We have also seen that we can use basic operators between two Series objects easily if their indices align. \n",
    "\n",
    "When two columns of a DataFrame are selected, the Series objects that are returned have the same indices. \n",
    "\n",
    "This makes it easy to compare columns"
   ]
  },
  {
   "cell_type": "code",
   "execution_count": 119,
   "metadata": {
    "collapsed": false
   },
   "outputs": [],
   "source": [
    "# Try comparing best_score and last_score on the `df`\n",
    "# DataFrame. Try adding and subtracting them. \n",
    "# Can you perform all the operations you would like to\n",
    "# between them? \n",
    "\n"
   ]
  },
  {
   "cell_type": "markdown",
   "metadata": {
    "collapsed": false
   },
   "source": [
    "## Map and Filter with Series\n",
    "\n",
    "Series objects make it easy to map and filter data!\n",
    "\n",
    "**map** is performed via the `.map` method on the Series object. \n",
    "\n",
    "**filter** is performed via a *boolean mask*.\n",
    "\n",
    "To create a *boolean mask*: \n",
    "\n",
    "1. Create a boolean series with the same index as the original series\n",
    "2. Use the new boolean series (called a boolean mask) to filter the original series via bracket `[]` notation"
   ]
  },
  {
   "cell_type": "code",
   "execution_count": 121,
   "metadata": {
    "collapsed": false
   },
   "outputs": [
    {
     "data": {
      "text/plain": [
       "0     10000\n",
       "1    302500\n",
       "2     40000\n",
       "3      2500\n",
       "Name: best_score, dtype: int64"
      ]
     },
     "execution_count": 121,
     "metadata": {},
     "output_type": "execute_result"
    }
   ],
   "source": [
    "# We can map values in a series, and return a new series\n",
    "# of the same length, with the `map` method:\n",
    "\n",
    "def square(n):\n",
    "    return n**2\n",
    "\n",
    "df.best_score.map(square)"
   ]
  },
  {
   "cell_type": "code",
   "execution_count": 123,
   "metadata": {
    "collapsed": false
   },
   "outputs": [
    {
     "data": {
      "text/plain": [
       "0    100\n",
       "3     50\n",
       "Name: best_score, dtype: int64"
      ]
     },
     "execution_count": 123,
     "metadata": {},
     "output_type": "execute_result"
    }
   ],
   "source": [
    "# To filter a series, we first create a boolean mask: \n",
    "# HINT: print out the mask object and examine it\n",
    "mask = df.best_score < 200\n",
    "\n",
    "# Then we use the mask to filter:\n",
    "# Note the indices on the new series!\n",
    "df.best_score[mask]"
   ]
  },
  {
   "cell_type": "code",
   "execution_count": null,
   "metadata": {
    "collapsed": false
   },
   "outputs": [],
   "source": [
    "# Challenge:\n",
    "\n",
    "# Return the scores where the best_score\n",
    "# is equal to the last_score\n",
    "\n"
   ]
  },
  {
   "cell_type": "markdown",
   "metadata": {
    "collapsed": false
   },
   "source": [
    "## Missing data in Pandas\n",
    "\n",
    "Missing data is very important!\n",
    "\n",
    "In Python, we used the `None` type to encode missing data.\n",
    "\n",
    "In Pandas, by default, it will turn the `None` type into its own internal representation of a missing value. \n",
    "\n",
    "In the current version of Pandas, that is a `NaN` type (Not a Number).\n",
    "\n",
    "Series objects have a set of built-in methods to deal with missing data, such as: \n",
    "\n",
    "* `.isna()`\n",
    "* `.notna()`\n",
    "\n",
    "Both of these methods return a boolean object, representing the presence or absence of missing data in the series."
   ]
  },
  {
   "cell_type": "code",
   "execution_count": 204,
   "metadata": {
    "collapsed": false
   },
   "outputs": [],
   "source": [
    "\n",
    "# Challenge: \n",
    "# Get a list of names, without the missing values!\n",
    "\n",
    "# The Pandas way: \n",
    "# 1. Create a boolean mask by using the .notna() method.\n",
    "# 2. Use the mask to subset the Series.\n",
    "\n",
    "names = pd.Series(['foo','bar',None,'baz','qux',None])"
   ]
  },
  {
   "cell_type": "markdown",
   "metadata": {
    "collapsed": false
   },
   "source": [
    "## Built-in reductions (aggregations) with Series\n",
    "\n",
    "Series objects come with a number of methods to perform common reductions (aggregations) on the Series.\n",
    "\n",
    "For example: \n",
    "\n",
    "* `.max()`\n",
    "* `.min()`\n",
    "* `.sum()`\n",
    "* `.count()`\n",
    "* `.sort_values()`"
   ]
  },
  {
   "cell_type": "code",
   "execution_count": 140,
   "metadata": {
    "collapsed": false
   },
   "outputs": [],
   "source": [
    "# Challenge: \n",
    "# Using the `df` DataFrame object,\n",
    "# Return the highest score in \"last_score\":\n",
    "\n"
   ]
  },
  {
   "cell_type": "code",
   "execution_count": 141,
   "metadata": {
    "collapsed": false
   },
   "outputs": [],
   "source": [
    "# Challenge: \n",
    "# Usin gthe `df` DataFrame object,\n",
    "# return the second highest score in \"last_score\"\n",
    "\n",
    "# HINT: You will need to combine a couple of ideas!"
   ]
  },
  {
   "cell_type": "markdown",
   "metadata": {
    "collapsed": false
   },
   "source": [
    "## Accessing DataFrame Elements\n",
    "\n",
    "We've been working with Series objects. But DataFrame objects work much the same way!\n",
    "\n",
    "For example, you'll note that a DataFrame object also has an `index`.\n",
    "\n",
    "We saw that we could return a **column** by accessing the column via dot `.` or bracket `[]` notation.\n",
    "\n",
    "We access **rows** in a DataFrame in two ways: \n",
    "\n",
    "1. By their index (`.loc[x]`)\n",
    "2. By their location (`.iloc[x]`)\n",
    "\n",
    "We can also access **single elements** in a DataFrame in two ways: \n",
    "\n",
    "1. By their index, column pair (`.loc[x, y]`)\n",
    "2. By their location in both axes (`.iloc[x, y]`)"
   ]
  },
  {
   "cell_type": "code",
   "execution_count": 21,
   "metadata": {
    "collapsed": false
   },
   "outputs": [
    {
     "data": {
      "text/plain": [
       "player     kewld00d1\n",
       "score            100\n",
       "country           gr\n",
       "Name: 0, dtype: object"
      ]
     },
     "execution_count": 21,
     "metadata": {},
     "output_type": "execute_result"
    }
   ],
   "source": [
    "# We can access rows with the `.loc` attribute:\n",
    "# Note that the row is also a Series.\n",
    "\n",
    "df.loc[0]"
   ]
  },
  {
   "cell_type": "code",
   "execution_count": 142,
   "metadata": {
    "collapsed": false
   },
   "outputs": [
    {
     "data": {
      "text/plain": [
       "player        kewld00d1\n",
       "best_score          100\n",
       "last_score          100\n",
       "country              gr\n",
       "Name: 0, dtype: object"
      ]
     },
     "execution_count": 142,
     "metadata": {},
     "output_type": "execute_result"
    }
   ],
   "source": [
    "# If we want to access a row by it's location, \n",
    "# we use the `iloc` attribute. \n",
    "# Note: in this current DataFrame, the row\n",
    "# index corresponds to the location, so we get\n",
    "# the same result. \n",
    "\n",
    "df.iloc[0]"
   ]
  },
  {
   "cell_type": "code",
   "execution_count": 159,
   "metadata": {
    "collapsed": false
   },
   "outputs": [
    {
     "data": {
      "text/plain": [
       "Index(['player', 'best_score', 'last_score', 'country'], dtype='object')"
      ]
     },
     "execution_count": 159,
     "metadata": {},
     "output_type": "execute_result"
    }
   ],
   "source": [
    "# Note that a \"row\" is a Series, and in this case\n",
    "# the index is often made of strings instead of integers: \n",
    "\n",
    "df.iloc[0].index"
   ]
  },
  {
   "cell_type": "code",
   "execution_count": 144,
   "metadata": {
    "collapsed": false
   },
   "outputs": [
    {
     "data": {
      "text/plain": [
       "550"
      ]
     },
     "execution_count": 144,
     "metadata": {},
     "output_type": "execute_result"
    }
   ],
   "source": [
    "# To access a single element, we can use `.loc`\n",
    "# to specify the row index and column name: \n",
    "\n",
    "df.loc[1, 'best_score']"
   ]
  },
  {
   "cell_type": "code",
   "execution_count": 147,
   "metadata": {
    "collapsed": false
   },
   "outputs": [
    {
     "data": {
      "text/plain": [
       "550"
      ]
     },
     "execution_count": 147,
     "metadata": {},
     "output_type": "execute_result"
    }
   ],
   "source": [
    "# Also, we can access a single element by its \"position\"\n",
    "# in the DataFrame, using `.iloc`: \n",
    "\n",
    "df.iloc[1, 1]"
   ]
  },
  {
   "cell_type": "markdown",
   "metadata": {
    "collapsed": false
   },
   "source": [
    "## Filter with DataFrames\n",
    "\n",
    "We can **filter** the elements (rows) of a DataFrame much like we did the elements of a Series.\n",
    "\n",
    "We need a boolean mask, which has the same index as the DataFrame. \n",
    "\n",
    "Often, we create this boolean mask from one of the columns of the DataFrame (which will have the same index as the DataFrame itself!)\n",
    "\n",
    "Then we filter via the bracket `[]` notation, just like a Series!"
   ]
  },
  {
   "cell_type": "code",
   "execution_count": 219,
   "metadata": {
    "collapsed": false
   },
   "outputs": [
    {
     "data": {
      "text/html": [
       "<div>\n",
       "<style scoped>\n",
       "    .dataframe tbody tr th:only-of-type {\n",
       "        vertical-align: middle;\n",
       "    }\n",
       "\n",
       "    .dataframe tbody tr th {\n",
       "        vertical-align: top;\n",
       "    }\n",
       "\n",
       "    .dataframe thead th {\n",
       "        text-align: right;\n",
       "    }\n",
       "</style>\n",
       "<table border=\"1\" class=\"dataframe\">\n",
       "  <thead>\n",
       "    <tr style=\"text-align: right;\">\n",
       "      <th></th>\n",
       "      <th>player</th>\n",
       "      <th>best_score</th>\n",
       "      <th>last_score</th>\n",
       "      <th>country</th>\n",
       "    </tr>\n",
       "  </thead>\n",
       "  <tbody>\n",
       "    <tr>\n",
       "      <th>0</th>\n",
       "      <td>kewld00d1</td>\n",
       "      <td>100</td>\n",
       "      <td>100</td>\n",
       "      <td>gr</td>\n",
       "    </tr>\n",
       "    <tr>\n",
       "      <th>3</th>\n",
       "      <td>111111</td>\n",
       "      <td>50</td>\n",
       "      <td>50</td>\n",
       "      <td>no</td>\n",
       "    </tr>\n",
       "  </tbody>\n",
       "</table>\n",
       "</div>"
      ],
      "text/plain": [
       "      player  best_score  last_score country\n",
       "0  kewld00d1         100         100      gr\n",
       "3     111111          50          50      no"
      ]
     },
     "execution_count": 219,
     "metadata": {},
     "output_type": "execute_result"
    }
   ],
   "source": [
    "# Filtering a DataFrame:\n",
    "# 1. Make the boolean mask:\n",
    "mask = df.best_score < 200\n",
    "\n",
    "# 2. Use the mask to select a subset of the elements:\n",
    "df[mask]"
   ]
  },
  {
   "cell_type": "markdown",
   "metadata": {
    "collapsed": false
   },
   "source": [
    "## Map with DataFrames - `.apply`\n",
    "\n",
    "Dataframes come with a method called `.apply`, which is anologous to the `.map` function in Series. \n",
    "\n",
    "The difference is that with a DataFrame, we need to be specific about whether we want to apply the function to: \n",
    "\n",
    "1. Each row of the DataFrame (returning a DataFrame with the same number of rows, but potentially different columns)\n",
    "2. Each column of the DataFrame (returning a DataFram with the same number of columns, but potentially different rows)"
   ]
  },
  {
   "cell_type": "code",
   "execution_count": 220,
   "metadata": {
    "collapsed": false
   },
   "outputs": [
    {
     "data": {
      "text/html": [
       "<div>\n",
       "<style scoped>\n",
       "    .dataframe tbody tr th:only-of-type {\n",
       "        vertical-align: middle;\n",
       "    }\n",
       "\n",
       "    .dataframe tbody tr th {\n",
       "        vertical-align: top;\n",
       "    }\n",
       "\n",
       "    .dataframe thead th {\n",
       "        text-align: right;\n",
       "    }\n",
       "</style>\n",
       "<table border=\"1\" class=\"dataframe\">\n",
       "  <thead>\n",
       "    <tr style=\"text-align: right;\">\n",
       "      <th></th>\n",
       "      <th>player</th>\n",
       "      <th>best_score</th>\n",
       "      <th>last_score</th>\n",
       "      <th>country</th>\n",
       "      <th>finished_strong</th>\n",
       "    </tr>\n",
       "  </thead>\n",
       "  <tbody>\n",
       "    <tr>\n",
       "      <th>0</th>\n",
       "      <td>kewld00d1</td>\n",
       "      <td>100</td>\n",
       "      <td>100</td>\n",
       "      <td>gr</td>\n",
       "      <td>True</td>\n",
       "    </tr>\n",
       "    <tr>\n",
       "      <th>1</th>\n",
       "      <td>pumpkin</td>\n",
       "      <td>550</td>\n",
       "      <td>20</td>\n",
       "      <td>gr</td>\n",
       "      <td>False</td>\n",
       "    </tr>\n",
       "    <tr>\n",
       "      <th>2</th>\n",
       "      <td>tr0llhuntah</td>\n",
       "      <td>200</td>\n",
       "      <td>150</td>\n",
       "      <td>no</td>\n",
       "      <td>False</td>\n",
       "    </tr>\n",
       "    <tr>\n",
       "      <th>3</th>\n",
       "      <td>111111</td>\n",
       "      <td>50</td>\n",
       "      <td>50</td>\n",
       "      <td>no</td>\n",
       "      <td>True</td>\n",
       "    </tr>\n",
       "  </tbody>\n",
       "</table>\n",
       "</div>"
      ],
      "text/plain": [
       "        player  best_score  last_score country  finished_strong\n",
       "0    kewld00d1         100         100      gr             True\n",
       "1      pumpkin         550          20      gr            False\n",
       "2  tr0llhuntah         200         150      no            False\n",
       "3       111111          50          50      no             True"
      ]
     },
     "execution_count": 220,
     "metadata": {},
     "output_type": "execute_result"
    }
   ],
   "source": [
    "def add_strong(row):\n",
    "    row['finished_strong'] = row.best_score == row.last_score\n",
    "    return row\n",
    "\n",
    "# To apply the function to each row, we use axis=1\n",
    "df.apply(add_strong, axis=1)"
   ]
  },
  {
   "cell_type": "markdown",
   "metadata": {
    "collapsed": false
   },
   "source": [
    "## Map with DataFrames - `.assign`\n",
    "\n",
    "Mapping a dataframe often consists of returning a new dataframe, with the same number of rows, but with each row transformed. \n",
    "\n",
    "The transformation often takes the form of adding or replacing a column!\n",
    "\n",
    "In that case, we don't need to use the `.apply` method, we can simply assign a column to a new series value by: \n",
    "\n",
    "1. Mutating the DataFrame inplace with bracket `[]` notation.\n",
    "2. Assigning a new column with the `.assign` method. "
   ]
  },
  {
   "cell_type": "code",
   "execution_count": 221,
   "metadata": {
    "collapsed": false
   },
   "outputs": [
    {
     "data": {
      "text/html": [
       "<div>\n",
       "<style scoped>\n",
       "    .dataframe tbody tr th:only-of-type {\n",
       "        vertical-align: middle;\n",
       "    }\n",
       "\n",
       "    .dataframe tbody tr th {\n",
       "        vertical-align: top;\n",
       "    }\n",
       "\n",
       "    .dataframe thead th {\n",
       "        text-align: right;\n",
       "    }\n",
       "</style>\n",
       "<table border=\"1\" class=\"dataframe\">\n",
       "  <thead>\n",
       "    <tr style=\"text-align: right;\">\n",
       "      <th></th>\n",
       "      <th>player</th>\n",
       "      <th>best_score</th>\n",
       "      <th>last_score</th>\n",
       "      <th>country</th>\n",
       "      <th>finished_strong</th>\n",
       "    </tr>\n",
       "  </thead>\n",
       "  <tbody>\n",
       "    <tr>\n",
       "      <th>0</th>\n",
       "      <td>kewld00d1</td>\n",
       "      <td>100</td>\n",
       "      <td>100</td>\n",
       "      <td>gr</td>\n",
       "      <td>True</td>\n",
       "    </tr>\n",
       "    <tr>\n",
       "      <th>1</th>\n",
       "      <td>pumpkin</td>\n",
       "      <td>550</td>\n",
       "      <td>20</td>\n",
       "      <td>gr</td>\n",
       "      <td>False</td>\n",
       "    </tr>\n",
       "    <tr>\n",
       "      <th>2</th>\n",
       "      <td>tr0llhuntah</td>\n",
       "      <td>200</td>\n",
       "      <td>150</td>\n",
       "      <td>no</td>\n",
       "      <td>False</td>\n",
       "    </tr>\n",
       "    <tr>\n",
       "      <th>3</th>\n",
       "      <td>111111</td>\n",
       "      <td>50</td>\n",
       "      <td>50</td>\n",
       "      <td>no</td>\n",
       "      <td>True</td>\n",
       "    </tr>\n",
       "  </tbody>\n",
       "</table>\n",
       "</div>"
      ],
      "text/plain": [
       "        player  best_score  last_score country  finished_strong\n",
       "0    kewld00d1         100         100      gr             True\n",
       "1      pumpkin         550          20      gr            False\n",
       "2  tr0llhuntah         200         150      no            False\n",
       "3       111111          50          50      no             True"
      ]
     },
     "execution_count": 221,
     "metadata": {},
     "output_type": "execute_result"
    }
   ],
   "source": [
    "# The `.assign` method adds a new column: \n",
    "\n",
    "finished_strong = df.best_score == df.last_score\n",
    "df.assign(finished_strong = finished_strong)"
   ]
  },
  {
   "cell_type": "code",
   "execution_count": 222,
   "metadata": {
    "collapsed": false
   },
   "outputs": [
    {
     "data": {
      "text/html": [
       "<div>\n",
       "<style scoped>\n",
       "    .dataframe tbody tr th:only-of-type {\n",
       "        vertical-align: middle;\n",
       "    }\n",
       "\n",
       "    .dataframe tbody tr th {\n",
       "        vertical-align: top;\n",
       "    }\n",
       "\n",
       "    .dataframe thead th {\n",
       "        text-align: right;\n",
       "    }\n",
       "</style>\n",
       "<table border=\"1\" class=\"dataframe\">\n",
       "  <thead>\n",
       "    <tr style=\"text-align: right;\">\n",
       "      <th></th>\n",
       "      <th>player</th>\n",
       "      <th>best_score</th>\n",
       "      <th>last_score</th>\n",
       "      <th>country</th>\n",
       "      <th>finished_strong</th>\n",
       "    </tr>\n",
       "  </thead>\n",
       "  <tbody>\n",
       "    <tr>\n",
       "      <th>0</th>\n",
       "      <td>kewld00d1</td>\n",
       "      <td>100</td>\n",
       "      <td>100</td>\n",
       "      <td>gr</td>\n",
       "      <td>True</td>\n",
       "    </tr>\n",
       "    <tr>\n",
       "      <th>1</th>\n",
       "      <td>pumpkin</td>\n",
       "      <td>550</td>\n",
       "      <td>20</td>\n",
       "      <td>gr</td>\n",
       "      <td>False</td>\n",
       "    </tr>\n",
       "    <tr>\n",
       "      <th>2</th>\n",
       "      <td>tr0llhuntah</td>\n",
       "      <td>200</td>\n",
       "      <td>150</td>\n",
       "      <td>no</td>\n",
       "      <td>False</td>\n",
       "    </tr>\n",
       "    <tr>\n",
       "      <th>3</th>\n",
       "      <td>111111</td>\n",
       "      <td>50</td>\n",
       "      <td>50</td>\n",
       "      <td>no</td>\n",
       "      <td>True</td>\n",
       "    </tr>\n",
       "  </tbody>\n",
       "</table>\n",
       "</div>"
      ],
      "text/plain": [
       "        player  best_score  last_score country  finished_strong\n",
       "0    kewld00d1         100         100      gr             True\n",
       "1      pumpkin         550          20      gr            False\n",
       "2  tr0llhuntah         200         150      no            False\n",
       "3       111111          50          50      no             True"
      ]
     },
     "execution_count": 222,
     "metadata": {},
     "output_type": "execute_result"
    }
   ],
   "source": [
    "# Using bracket notation, we can just\n",
    "# add a new column directly to the dataframe: \n",
    "\n",
    "finished_strong = df.best_score == df.last_score\n",
    "df['finished_strong'] = finished_strong \n",
    "df"
   ]
  },
  {
   "cell_type": "markdown",
   "metadata": {
    "collapsed": false
   },
   "source": [
    "## Built-in reductions (aggregations) with DataFrames\n",
    "\n",
    "Pandas offers a number of built-in methods for common reductins (aggregations) on DataFrames:\n",
    "\n",
    "* `.max()`\n",
    "* `.min()`\n",
    "* `.sum()`\n",
    "* `.count()`\n",
    "* `.sort_values('col_name')`"
   ]
  },
  {
   "cell_type": "code",
   "execution_count": 223,
   "metadata": {
    "collapsed": false
   },
   "outputs": [],
   "source": [
    "# Play:\n",
    "# Try the different built-in aggregation methods on the DataFrame\n",
    "# object. What is the return data type?  "
   ]
  }
 ],
 "metadata": {
  "file_extension": ".py",
  "kernelspec": {
   "display_name": "Python 3.8.2 64-bit ('venv': venv)",
   "name": "python38264bitvenvvenv841964d98f5e47bf99bd452dab26b883"
  },
  "language_info": {
   "codemirror_mode": {
    "name": "ipython",
    "version": 3
   },
   "name": "python",
   "version": "3.8.2-final"
  },
  "mimetype": "text/x-python",
  "name": "pandas.ipynb",
  "npconvert_exporter": "python",
  "pygments_lexer": "ipython3",
  "version": 3
 },
 "nbformat": 4,
 "nbformat_minor": 2
}
